{
 "cells": [
  {
   "cell_type": "code",
   "execution_count": 1,
   "id": "32586f64",
   "metadata": {},
   "outputs": [],
   "source": [
    "from flask import Flask, request, render_template, Response\n",
    "\n",
    "import numpy as np\n",
    "import pickle\n",
    "\n",
    "import pandas as pd\n",
    "import matplotlib.pyplot as plt\n",
    "\n",
    "from matplotlib.backends.backend_agg import FigureCanvasAgg as FigureCanvas\n",
    "from io import BytesIO\n",
    "\n",
    "import base64\n",
    "import matplotlib\n",
    "\n",
    "matplotlib.use('Agg')\n",
    "import joblib\n"
   ]
  },
  {
   "cell_type": "code",
   "execution_count": 2,
   "id": "8d9e2ab7",
   "metadata": {},
   "outputs": [],
   "source": [
    "app = Flask(__name__)\n",
    "def html_response(content):\n",
    "    return f\"<html><body>{content}</body></html>\"\n"
   ]
  },
  {
   "cell_type": "code",
   "execution_count": 3,
   "id": "3dca416d",
   "metadata": {},
   "outputs": [],
   "source": [
    "# Route for rendering HTML\n",
    "@app.route('/')\n",
    "def index():\n",
    "    return html_response(\"<h1>Falsk sales prediction!</h1>\")\n"
   ]
  },
  {
   "cell_type": "code",
   "execution_count": 4,
   "id": "d2784ed2",
   "metadata": {},
   "outputs": [
    {
     "name": "stdout",
     "output_type": "stream",
     "text": [
      " * Serving Flask app '__main__'\n",
      " * Debug mode: on\n"
     ]
    },
    {
     "name": "stderr",
     "output_type": "stream",
     "text": [
      "WARNING: This is a development server. Do not use it in a production deployment. Use a production WSGI server instead.\n",
      " * Running on http://127.0.0.1:5000\n",
      "Press CTRL+C to quit\n",
      " * Restarting with watchdog (windowsapi)\n"
     ]
    },
    {
     "ename": "SystemExit",
     "evalue": "1",
     "output_type": "error",
     "traceback": [
      "An exception has occurred, use %tb to see the full traceback.\n",
      "\u001b[1;31mSystemExit\u001b[0m\u001b[1;31m:\u001b[0m 1\n"
     ]
    },
    {
     "name": "stderr",
     "output_type": "stream",
     "text": [
      "C:\\Users\\shita\\anaconda3\\Lib\\site-packages\\IPython\\core\\interactiveshell.py:3513: UserWarning: To exit: use 'exit', 'quit', or Ctrl-D.\n",
      "  warn(\"To exit: use 'exit', 'quit', or Ctrl-D.\", stacklevel=1)\n"
     ]
    }
   ],
   "source": [
    "if __name__ == '__main__':\n",
    "    app.run(debug=True)\n",
    "# Load your trained machine learning model using joblib\n",
    "model_path = r\"E:\\Flask\\09-09-2023-14-53-20-148.pkl\"\n",
    "model = joblib.load(model_path)\n",
    "\n",
    "def adjust_date(input_date, days_to_add):\n",
    "    return input_date + pd.DateOffset(days=days_to_add)\n"
   ]
  },
  {
   "cell_type": "code",
   "execution_count": null,
   "id": "3d8b50e8",
   "metadata": {},
   "outputs": [],
   "source": [
    "#@app.route('/', methods=['GET', 'POST'])\n",
    "\n",
    "def predict():\n",
    "    if request.method == 'POST':\n",
    "        \n",
    "        # Get input data from the form\n",
    "        \n",
    "        store = int(request.form['store'])\n",
    "        \n",
    "        day_of_week = int(request.form['day_of_week'])\n",
    "        \n",
    "        open_status = int(request.form['open'])\n",
    "        \n",
    "        promo = int(request.form['promo'])\n",
    "        \n",
    "        state_holiday = int(request.form['state_holiday'])\n",
    "        \n",
    "        school_holiday = int(request.form['school_holiday'])\n",
    "        \n",
    "# Continue converting other input features to their appropriate data types\n",
    "        store_type = int(request.form['store_type'])\n",
    "    \n",
    "        assortment = int(request.form['assortment'])\n",
    "        \n",
    "        competition_distance = float(request.form['competition_distance'])\n",
    "        \n",
    "        competition_open_month = int(request.form['competition_open_month'])\n",
    "        \n",
    "        competition_open_year = int(request.form['competition_open_year'])\n",
    "        \n",
    "        promo2 = int(request.form['promo2'])\n",
    "        \n",
    "        promo2_since_week = int(request.form['promo2_since_week'])\n",
    "        \n",
    "        promo2_since_year = int(request.form['promo2_since_year'])\n",
    "        \n",
    "        promo_interval = float(request.form['promo_interval'])\n",
    "        \n",
    "        weekday = int(request.form['weekday'])\n",
    "        \n",
    "        is_weekend = int(request.form['is_weekend'])\n",
    "        \n",
    "        sales_per_customer = float(request.form['sales_per_customer'])\n",
    "        \n",
    "        is_month_start = int(request.form['is_month_start'])\n",
    "        \n",
    "        is_month_middle = int(request.form['is_month_middle'])\n",
    "        \n",
    "        is_month_end = int(request.form['is_month_end'])"
   ]
  },
  {
   "cell_type": "code",
   "execution_count": null,
   "id": "9fbbd066",
   "metadata": {},
   "outputs": [],
   "source": [
    "# Handle promo_interval separately\n",
    "\n",
    "if promo_interval == \"None\":\n",
    "    \n",
    "    promo_interval = 0  # or any other default value that makes sense\n",
    "    \n",
    "else:\n",
    "    promo_interval = float(promo_interval)"
   ]
  },
  {
   "cell_type": "code",
   "execution_count": null,
   "id": "b5a5244b",
   "metadata": {},
   "outputs": [],
   "source": [
    " # Create a list of selected feature names that match the features used during training\n",
    "selected_feature_names = ['Store', 'DayOfWeek', 'Open', 'Promo', 'StateHoliday', 'SchoolHoliday',\n",
    "                                'StoreType', 'Assortment', 'CompetitionDistance',\n",
    "                                'CompetitionOpenSinceMonth', 'CompetitionOpenSinceYear', 'Promo2',\n",
    "                                'Promo2SinceWeek', 'Promo2SinceYear', 'PromoInterval', 'weekday',\n",
    "                                'is_weekend', 'Season', 'IsMonthStart',\n",
    "                                'IsMonthMiddle', 'IsMonthEnd']\n"
   ]
  },
  {
   "cell_type": "code",
   "execution_count": null,
   "id": "c89ca955",
   "metadata": {},
   "outputs": [],
   "source": [
    "# Create a dictionary to map feature names to their corresponding values\n",
    "\n",
    "input_features_dict = {'Store': store,\n",
    "            'DayOfWeek': day_of_week,\n",
    "            'Open': open_status,\n",
    "            'Promo': promo,\n",
    "            'StateHoliday': state_holiday,\n",
    "            'SchoolHoliday': school_holiday,\n",
    "            'StoreType': store_type,\n",
    "            'Assortment': assortment,\n",
    "            'CompetitionDistance': competition_distance,\n",
    "            'CompetitionOpenSinceMonth': competition_open_month,\n",
    "            'CompetitionOpenSinceYear': competition_open_year,\n",
    "            'Promo2': promo2,\n",
    "            'Promo2SinceWeek': promo2_since_week,\n",
    "            'Promo2SinceYear': promo2_since_year,\n",
    "            'PromoInterval': promo_interval,\n",
    "            'weekday': weekday,\n",
    "            'is_weekend': is_weekend,\n",
    "            'SalesPerCustomer': sales_per_customer,  # Include your target feature\n",
    "            'IsMonthStart': is_month_start,\n",
    "            'IsMonthMiddle': is_month_middle,\n",
    "            'IsMonthEnd':  is_month_end,\n",
    "        }\n"
   ]
  },
  {
   "cell_type": "code",
   "execution_count": null,
   "id": "16fefed9",
   "metadata": {},
   "outputs": [],
   "source": [
    " # Assuming \"SalesPerCustomer\" is your target value, remove it from input_features_dict\n",
    "input_features_dict.pop('SalesPerCustomer')\n",
    "\n",
    "        # Create a dictionary to map feature names to their corresponding indices\n",
    "feature_indices = {feature: idx for idx, feature in enumerate(selected_feature_names)}\n",
    "\n",
    "        # Create a numpy array to hold the input features\n",
    "input_features = np.zeros(len(selected_feature_names))\n",
    "\n",
    "        # Populate the input_features array with values based on the feature indices\n",
    "for feature, value in input_features_dict.items():\n",
    "idx = feature_indices.get(feature)\n",
    "if idx is not None:\n",
    "input_features[idx] = value\n"
   ]
  },
  {
   "cell_type": "code",
   "execution_count": null,
   "id": "2bd93c52",
   "metadata": {},
   "outputs": [],
   "source": [
    " # Reshape the input_features for LSTM input (samples, time steps, features)\n",
    "    \n",
    "input_features = input_features.reshape(1, 1, -1)\n",
    "\n",
    "# Initialize lists to store predictions for the next 6 months\n",
    "predictions_next_6_months = []\n",
    "\n",
    "# Define the start date for predictions (adjust as needed)\n",
    "start_date = pd.to_datetime('2023-09-01')\n"
   ]
  },
  {
   "cell_type": "code",
   "execution_count": null,
   "id": "e0f8e992",
   "metadata": {},
   "outputs": [],
   "source": [
    " # Loop to predict sales for the next 6 months\n",
    "    \n",
    "for i in range(6):\n",
    "    \n",
    "# Use your trained LSTM model to make predictions\n",
    "predicted_values = model.predict(input_features)\n",
    "predicted_value = predicted_values[0][0]\n",
    "            \n",
    "# Add the prediction to the list\n",
    "predictions_next_6_months.append(predicted_value)\n",
    "\n",
    "# Update the input features for the next prediction (adjust date-related features)\n",
    "input_features[0][0][1] += 7  # Increment the day of the week by 7 days\n",
    "input_features[0][0][17] += 1  # Increment the month by 1\n",
    "input_features[0][0][19] += 1  # Increment the day of the month by 1\n"
   ]
  },
  {
   "cell_type": "code",
   "execution_count": null,
   "id": "b5a47ded",
   "metadata": {},
   "outputs": [],
   "source": [
    " # Create a list of dates for the next 6 months\n",
    "    \n",
    "plot_dates = [start_date + pd.DateOffset(days=i) for i in range(6)]\n",
    "\n",
    "# Plot predictions\n",
    "\n",
    "plt.figure(figsize=(6, 4))  # Adjust plot size as needed\n",
    "plt.plot(plot_dates, predictions_next_6_days, marker='o', linestyle='-', color='green')  # Change color to green\n",
    "plt.xlabel('Date')\n",
    "plt.ylabel('Sales')\n",
    "plt.title('ROSSMAN SALES PREDICTION FOR NEXT 6 Days')\n",
    "plt.grid(True)\n",
    "\n",
    "# Create a BytesIO buffer to hold the plot image\n",
    "plot_buffer = BytesIO()\n",
    "FigureCanvas(plt.gcf()).print_png(plot_buffer)\n",
    "plot_buffer.seek(0)\n",
    "\n",
    "# Encode the image in base64 for embedding in HTML\n",
    "plot_base64 = base64.b64encode(plot_buffer.read()).decode()\n",
    "\n",
    "        \n",
    "if __name__ == '__main__':\n",
    "    app.run(debug=True)"
   ]
  },
  {
   "cell_type": "code",
   "execution_count": null,
   "id": "dfa3b0f2",
   "metadata": {},
   "outputs": [],
   "source": []
  }
 ],
 "metadata": {
  "kernelspec": {
   "display_name": "Python 3 (ipykernel)",
   "language": "python",
   "name": "python3"
  },
  "language_info": {
   "codemirror_mode": {
    "name": "ipython",
    "version": 3
   },
   "file_extension": ".py",
   "mimetype": "text/x-python",
   "name": "python",
   "nbconvert_exporter": "python",
   "pygments_lexer": "ipython3",
   "version": "3.11.4"
  }
 },
 "nbformat": 4,
 "nbformat_minor": 5
}
