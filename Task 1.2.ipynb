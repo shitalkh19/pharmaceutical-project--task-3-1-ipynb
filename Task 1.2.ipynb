{
 "cells": [
  {
   "cell_type": "markdown",
   "id": "9eeae831",
   "metadata": {},
   "source": [
    "# 1.2 -  Logging\n",
    " \n"
   ]
  },
  {
   "cell_type": "markdown",
   "id": "8ea79ace",
   "metadata": {},
   "source": [
    "# Log your steps using the logger library in python. \n"
   ]
  },
  {
   "cell_type": "code",
   "execution_count": 5,
   "id": "05a19117",
   "metadata": {},
   "outputs": [],
   "source": [
    "import logging\n",
    "\n",
    "# Configure the logging settings\n",
    "\n",
    "logging.basicConfig(filename='logfile.log', level=logging.INFO, filemode='w', format='%(asctime)s - %(levelname)s - %(message)s')"
   ]
  },
  {
   "cell_type": "code",
   "execution_count": 6,
   "id": "2e27d00c",
   "metadata": {},
   "outputs": [],
   "source": [
    "#  Create a logger object\n",
    "\n",
    "logger = logging.getLogger()\n",
    "\n",
    "logger = logging.getLogger(\"my_logger\")"
   ]
  },
  {
   "cell_type": "code",
   "execution_count": 7,
   "id": "1c4a8b60",
   "metadata": {},
   "outputs": [],
   "source": [
    "logger.setLevel(logging.DEBUG)"
   ]
  },
  {
   "cell_type": "code",
   "execution_count": 8,
   "id": "7921498c",
   "metadata": {},
   "outputs": [],
   "source": [
    "# Creating and configuring handlers\n",
    "file_handler = logging.FileHandler(\"app.log\")\n",
    "\n",
    "console_handler = logging.StreamHandler()\n"
   ]
  },
  {
   "cell_type": "code",
   "execution_count": 9,
   "id": "66cabfac",
   "metadata": {},
   "outputs": [],
   "source": [
    "# Creating a formatter\n",
    "formatter = logging.Formatter(\"%(asctime)s - %(name)s - %(levelname)s - %(message)s\")"
   ]
  },
  {
   "cell_type": "code",
   "execution_count": 10,
   "id": "79766b37",
   "metadata": {},
   "outputs": [],
   "source": [
    "# Setting the formatter for each handler\n",
    "file_handler.setFormatter(formatter)\n",
    "console_handler.setFormatter(formatter)"
   ]
  },
  {
   "cell_type": "code",
   "execution_count": 11,
   "id": "a8e8a958",
   "metadata": {},
   "outputs": [],
   "source": [
    "# Attaching the handlers to the logger\n",
    "logger.addHandler(file_handler)\n",
    "logger.addHandler(console_handler)"
   ]
  },
  {
   "cell_type": "code",
   "execution_count": 12,
   "id": "dd5e9276",
   "metadata": {},
   "outputs": [
    {
     "name": "stderr",
     "output_type": "stream",
     "text": [
      "2023-12-21 21:15:23,387 - my_logger - DEBUG - This is a debug message\n",
      "2023-12-21 21:15:23,388 - my_logger - INFO - This is an info message\n",
      "2023-12-21 21:15:23,393 - my_logger - WARNING - This is a warning message\n",
      "2023-12-21 21:15:23,394 - my_logger - ERROR - This is an error message\n",
      "2023-12-21 21:15:23,396 - my_logger - CRITICAL - This is a critical message\n"
     ]
    }
   ],
   "source": [
    "# Logging messages AT DIFFERENT LEVELS\n",
    "\n",
    "logger.debug(\"This is a debug message\")\n",
    "logger.info(\"This is an info message\")\n",
    "logger.warning(\"This is a warning message\")\n",
    "logger.error(\"This is an error message\")\n",
    "logger.critical(\"This is a critical message\")"
   ]
  },
  {
   "cell_type": "code",
   "execution_count": 13,
   "id": "f455d482",
   "metadata": {},
   "outputs": [],
   "source": [
    "def my_function():\n",
    "    logger.info('Starting my_function...')\n",
    "\n",
    "    try:\n",
    "        # Your code logic here\n",
    "        result = 10 / 2\n",
    "        logger.info('Result: %s', result)\n",
    "    except Exception as e:\n",
    "        logger.error('An error occurred: %s', str(e))\n",
    "    finally:\n",
    "        logger.info('Finished my_function.')"
   ]
  },
  {
   "cell_type": "code",
   "execution_count": 14,
   "id": "78416ef2",
   "metadata": {},
   "outputs": [
    {
     "name": "stderr",
     "output_type": "stream",
     "text": [
      "2023-12-21 21:16:04,873 - my_logger - INFO - Program started.\n",
      "2023-12-21 21:16:04,882 - my_logger - INFO - Starting my_function...\n",
      "2023-12-21 21:16:04,882 - my_logger - INFO - Result: 5.0\n",
      "2023-12-21 21:16:04,884 - my_logger - INFO - Finished my_function.\n",
      "2023-12-21 21:16:04,885 - my_logger - INFO - Program finished.\n"
     ]
    }
   ],
   "source": [
    "if __name__ == \"__main__\":\n",
    "    # Your main code here\n",
    "    logger.info('Program started.')\n",
    "    my_function()\n",
    "    logger.info('Program finished.')"
   ]
  },
  {
   "cell_type": "code",
   "execution_count": 15,
   "id": "9a950c3a",
   "metadata": {},
   "outputs": [
    {
     "name": "stderr",
     "output_type": "stream",
     "text": [
      "2023-12-21 21:16:24,913 - my_logger - DEBUG - this is debug\n"
     ]
    }
   ],
   "source": [
    "logger.debug('this is debug')"
   ]
  },
  {
   "cell_type": "code",
   "execution_count": 16,
   "id": "d1e081bc",
   "metadata": {},
   "outputs": [
    {
     "name": "stderr",
     "output_type": "stream",
     "text": [
      "2023-12-21 21:16:42,192 - my_logger - INFO - this is info\n"
     ]
    }
   ],
   "source": [
    "logger.info('this is info')"
   ]
  },
  {
   "cell_type": "code",
   "execution_count": 17,
   "id": "2f83fbfe",
   "metadata": {},
   "outputs": [
    {
     "name": "stderr",
     "output_type": "stream",
     "text": [
      "2023-12-21 21:17:09,935 - my_logger - WARNING - this is warning\n"
     ]
    }
   ],
   "source": [
    "logger.warning('this is warning')"
   ]
  },
  {
   "cell_type": "code",
   "execution_count": 18,
   "id": "7d608292",
   "metadata": {},
   "outputs": [
    {
     "name": "stderr",
     "output_type": "stream",
     "text": [
      "2023-12-21 21:17:31,814 - my_logger - ERROR - This is error\n"
     ]
    }
   ],
   "source": [
    "logger.error(\"This is error\")"
   ]
  },
  {
   "cell_type": "code",
   "execution_count": 19,
   "id": "a4f63998",
   "metadata": {},
   "outputs": [
    {
     "name": "stderr",
     "output_type": "stream",
     "text": [
      "2023-12-21 21:17:57,968 - my_logger - CRITICAL - this is critical\n"
     ]
    }
   ],
   "source": [
    "logger.critical('this is critical')"
   ]
  },
  {
   "cell_type": "code",
   "execution_count": null,
   "id": "133333f1",
   "metadata": {},
   "outputs": [],
   "source": []
  },
  {
   "cell_type": "code",
   "execution_count": null,
   "id": "5333b3b5",
   "metadata": {},
   "outputs": [],
   "source": []
  },
  {
   "cell_type": "code",
   "execution_count": null,
   "id": "f7d7cb6b",
   "metadata": {},
   "outputs": [],
   "source": []
  }
 ],
 "metadata": {
  "kernelspec": {
   "display_name": "Python 3 (ipykernel)",
   "language": "python",
   "name": "python3"
  },
  "language_info": {
   "codemirror_mode": {
    "name": "ipython",
    "version": 3
   },
   "file_extension": ".py",
   "mimetype": "text/x-python",
   "name": "python",
   "nbconvert_exporter": "python",
   "pygments_lexer": "ipython3",
   "version": "3.11.4"
  }
 },
 "nbformat": 4,
 "nbformat_minor": 5
}
